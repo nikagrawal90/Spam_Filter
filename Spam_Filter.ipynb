{
  "nbformat": 4,
  "nbformat_minor": 0,
  "metadata": {
    "colab": {
      "name": "Spam Filter.ipynb",
      "provenance": [],
      "mount_file_id": "https://github.com/nikagrawal90/Spam_Filter/blob/master/Spam_Filter.ipynb",
      "authorship_tag": "ABX9TyOV8AkpwM/VCGng6uloMsdF",
      "include_colab_link": true
    },
    "kernelspec": {
      "name": "python3",
      "display_name": "Python 3"
    }
  },
  "cells": [
    {
      "cell_type": "markdown",
      "metadata": {
        "id": "view-in-github",
        "colab_type": "text"
      },
      "source": [
        "<a href=\"https://colab.research.google.com/github/nikagrawal90/Spam_Filter/blob/master/Spam_Filter.ipynb\" target=\"_parent\"><img src=\"https://colab.research.google.com/assets/colab-badge.svg\" alt=\"Open In Colab\"/></a>"
      ]
    },
    {
      "cell_type": "code",
      "metadata": {
        "id": "OO3LRvH9jc_0"
      },
      "source": [
        "import pandas as pd\n",
        "import numpy as np"
      ],
      "execution_count": null,
      "outputs": []
    },
    {
      "cell_type": "code",
      "metadata": {
        "id": "vZi0V493loQo"
      },
      "source": [
        "# importing dataframe\n",
        "df = pd.read_csv('spam_ham_dataset.csv')"
      ],
      "execution_count": null,
      "outputs": []
    },
    {
      "cell_type": "code",
      "metadata": {
        "id": "5wOg7ZIoWJws",
        "outputId": "5b7bf5bb-5f1b-4ed2-86e4-d6003952c18a",
        "colab": {
          "base_uri": "https://localhost:8080/",
          "height": 424
        }
      },
      "source": [
        "#Drop unnecessary data.\n",
        "df.drop(['Unnamed: 0'],axis=1,inplace=True)\n",
        "\n",
        "#Remove any duplicates (if any)\n",
        "df.drop_duplicates(inplace=True)\n",
        "\n",
        "#Replace empty strings with nan values so that we can remove them later\n",
        "df.replace(\"\", np.nan, inplace=True)\n",
        "\n",
        "#Drop NAN values as they are of no use to us\n",
        "df.dropna()\n"
      ],
      "execution_count": null,
      "outputs": [
        {
          "output_type": "execute_result",
          "data": {
            "text/html": [
              "<div>\n",
              "<style scoped>\n",
              "    .dataframe tbody tr th:only-of-type {\n",
              "        vertical-align: middle;\n",
              "    }\n",
              "\n",
              "    .dataframe tbody tr th {\n",
              "        vertical-align: top;\n",
              "    }\n",
              "\n",
              "    .dataframe thead th {\n",
              "        text-align: right;\n",
              "    }\n",
              "</style>\n",
              "<table border=\"1\" class=\"dataframe\">\n",
              "  <thead>\n",
              "    <tr style=\"text-align: right;\">\n",
              "      <th></th>\n",
              "      <th>label</th>\n",
              "      <th>text</th>\n",
              "      <th>label_num</th>\n",
              "    </tr>\n",
              "  </thead>\n",
              "  <tbody>\n",
              "    <tr>\n",
              "      <th>0</th>\n",
              "      <td>ham</td>\n",
              "      <td>Subject: enron methanol ; meter # : 988291\\r\\n...</td>\n",
              "      <td>0</td>\n",
              "    </tr>\n",
              "    <tr>\n",
              "      <th>1</th>\n",
              "      <td>ham</td>\n",
              "      <td>Subject: hpl nom for january 9 , 2001\\r\\n( see...</td>\n",
              "      <td>0</td>\n",
              "    </tr>\n",
              "    <tr>\n",
              "      <th>2</th>\n",
              "      <td>ham</td>\n",
              "      <td>Subject: neon retreat\\r\\nho ho ho , we ' re ar...</td>\n",
              "      <td>0</td>\n",
              "    </tr>\n",
              "    <tr>\n",
              "      <th>3</th>\n",
              "      <td>spam</td>\n",
              "      <td>Subject: photoshop , windows , office . cheap ...</td>\n",
              "      <td>1</td>\n",
              "    </tr>\n",
              "    <tr>\n",
              "      <th>4</th>\n",
              "      <td>ham</td>\n",
              "      <td>Subject: re : indian springs\\r\\nthis deal is t...</td>\n",
              "      <td>0</td>\n",
              "    </tr>\n",
              "    <tr>\n",
              "      <th>...</th>\n",
              "      <td>...</td>\n",
              "      <td>...</td>\n",
              "      <td>...</td>\n",
              "    </tr>\n",
              "    <tr>\n",
              "      <th>5165</th>\n",
              "      <td>ham</td>\n",
              "      <td>Subject: fw : crosstex energy , driscoll ranch...</td>\n",
              "      <td>0</td>\n",
              "    </tr>\n",
              "    <tr>\n",
              "      <th>5166</th>\n",
              "      <td>ham</td>\n",
              "      <td>Subject: put the 10 on the ft\\r\\nthe transport...</td>\n",
              "      <td>0</td>\n",
              "    </tr>\n",
              "    <tr>\n",
              "      <th>5167</th>\n",
              "      <td>ham</td>\n",
              "      <td>Subject: 3 / 4 / 2000 and following noms\\r\\nhp...</td>\n",
              "      <td>0</td>\n",
              "    </tr>\n",
              "    <tr>\n",
              "      <th>5169</th>\n",
              "      <td>ham</td>\n",
              "      <td>Subject: industrial worksheets for august 2000...</td>\n",
              "      <td>0</td>\n",
              "    </tr>\n",
              "    <tr>\n",
              "      <th>5170</th>\n",
              "      <td>spam</td>\n",
              "      <td>Subject: important online banking alert\\r\\ndea...</td>\n",
              "      <td>1</td>\n",
              "    </tr>\n",
              "  </tbody>\n",
              "</table>\n",
              "<p>4993 rows × 3 columns</p>\n",
              "</div>"
            ],
            "text/plain": [
              "     label                                               text  label_num\n",
              "0      ham  Subject: enron methanol ; meter # : 988291\\r\\n...          0\n",
              "1      ham  Subject: hpl nom for january 9 , 2001\\r\\n( see...          0\n",
              "2      ham  Subject: neon retreat\\r\\nho ho ho , we ' re ar...          0\n",
              "3     spam  Subject: photoshop , windows , office . cheap ...          1\n",
              "4      ham  Subject: re : indian springs\\r\\nthis deal is t...          0\n",
              "...    ...                                                ...        ...\n",
              "5165   ham  Subject: fw : crosstex energy , driscoll ranch...          0\n",
              "5166   ham  Subject: put the 10 on the ft\\r\\nthe transport...          0\n",
              "5167   ham  Subject: 3 / 4 / 2000 and following noms\\r\\nhp...          0\n",
              "5169   ham  Subject: industrial worksheets for august 2000...          0\n",
              "5170  spam  Subject: important online banking alert\\r\\ndea...          1\n",
              "\n",
              "[4993 rows x 3 columns]"
            ]
          },
          "metadata": {
            "tags": []
          },
          "execution_count": 35
        }
      ]
    },
    {
      "cell_type": "code",
      "metadata": {
        "id": "_DwpCZUolZS5",
        "outputId": "3650e468-88ed-432d-fef9-8442478892b4",
        "colab": {
          "base_uri": "https://localhost:8080/",
          "height": 109
        }
      },
      "source": [
        "import nltk\n",
        "nltk.download('wordnet')\n",
        "nltk.download('stopwords')"
      ],
      "execution_count": null,
      "outputs": [
        {
          "output_type": "stream",
          "text": [
            "[nltk_data] Downloading package wordnet to /root/nltk_data...\n",
            "[nltk_data]   Package wordnet is already up-to-date!\n",
            "[nltk_data] Downloading package stopwords to /root/nltk_data...\n",
            "[nltk_data]   Package stopwords is already up-to-date!\n"
          ],
          "name": "stdout"
        },
        {
          "output_type": "execute_result",
          "data": {
            "text/plain": [
              "True"
            ]
          },
          "metadata": {
            "tags": []
          },
          "execution_count": 36
        }
      ]
    },
    {
      "cell_type": "code",
      "metadata": {
        "id": "gYPwKJnAdgkj",
        "outputId": "0e4b9111-c615-49cd-a951-342ecee573e1",
        "colab": {
          "base_uri": "https://localhost:8080/",
          "height": 424
        }
      },
      "source": [
        "#preprocessing\n",
        "\n",
        "#import regex\n",
        "import re\n",
        "\n",
        "#Every mail start with Subject: thus remove it, also replace any non alphanumeric charcter with a empty string and convert the resulting string to lowercase\n",
        "df['text'] = df['text'].apply(lambda x: x[8:]).apply(lambda x: (re.sub('(?:[^A-Za-z0-9\\s])+','', x)).lower())\n",
        "\n",
        "#import lemmaizer\n",
        "from nltk.stem import WordNetLemmatizer\n",
        "lemmatizer = WordNetLemmatizer()\n",
        "\n",
        "#lemmatize the words for saving memory\n",
        "df['text'] = df['text'].apply(lambda x: lemmatizer.lemmatize(x))\n",
        "\n",
        "#import stop words\n",
        "from nltk.corpus import stopwords\n",
        "stop = stopwords.words('english')\n",
        "\n",
        "#Join the list of text words which are not in stopwords on a whitespace\n",
        "df['text'] = df['text'].apply(lambda x: ' '.join(word for word in x.split() if word not in stop))\n",
        "df"
      ],
      "execution_count": null,
      "outputs": [
        {
          "output_type": "execute_result",
          "data": {
            "text/html": [
              "<div>\n",
              "<style scoped>\n",
              "    .dataframe tbody tr th:only-of-type {\n",
              "        vertical-align: middle;\n",
              "    }\n",
              "\n",
              "    .dataframe tbody tr th {\n",
              "        vertical-align: top;\n",
              "    }\n",
              "\n",
              "    .dataframe thead th {\n",
              "        text-align: right;\n",
              "    }\n",
              "</style>\n",
              "<table border=\"1\" class=\"dataframe\">\n",
              "  <thead>\n",
              "    <tr style=\"text-align: right;\">\n",
              "      <th></th>\n",
              "      <th>label</th>\n",
              "      <th>text</th>\n",
              "      <th>label_num</th>\n",
              "    </tr>\n",
              "  </thead>\n",
              "  <tbody>\n",
              "    <tr>\n",
              "      <th>0</th>\n",
              "      <td>ham</td>\n",
              "      <td>enron methanol meter 988291 follow note gave m...</td>\n",
              "      <td>0</td>\n",
              "    </tr>\n",
              "    <tr>\n",
              "      <th>1</th>\n",
              "      <td>ham</td>\n",
              "      <td>hpl nom january 9 2001 see attached file hplno...</td>\n",
              "      <td>0</td>\n",
              "    </tr>\n",
              "    <tr>\n",
              "      <th>2</th>\n",
              "      <td>ham</td>\n",
              "      <td>neon retreat ho ho ho around wonderful time ye...</td>\n",
              "      <td>0</td>\n",
              "    </tr>\n",
              "    <tr>\n",
              "      <th>3</th>\n",
              "      <td>spam</td>\n",
              "      <td>photoshop windows office cheap main trending a...</td>\n",
              "      <td>1</td>\n",
              "    </tr>\n",
              "    <tr>\n",
              "      <th>4</th>\n",
              "      <td>ham</td>\n",
              "      <td>indian springs deal book teco pvr revenue unde...</td>\n",
              "      <td>0</td>\n",
              "    </tr>\n",
              "    <tr>\n",
              "      <th>...</th>\n",
              "      <td>...</td>\n",
              "      <td>...</td>\n",
              "      <td>...</td>\n",
              "    </tr>\n",
              "    <tr>\n",
              "      <th>5165</th>\n",
              "      <td>ham</td>\n",
              "      <td>fw crosstex energy driscoll ranch 1 3 meter no...</td>\n",
              "      <td>0</td>\n",
              "    </tr>\n",
              "    <tr>\n",
              "      <th>5166</th>\n",
              "      <td>ham</td>\n",
              "      <td>put 10 ft transport volumes decreased 25000 10...</td>\n",
              "      <td>0</td>\n",
              "    </tr>\n",
              "    <tr>\n",
              "      <th>5167</th>\n",
              "      <td>ham</td>\n",
              "      <td>3 4 2000 following noms hpl take extra 15 mmcf...</td>\n",
              "      <td>0</td>\n",
              "    </tr>\n",
              "    <tr>\n",
              "      <th>5169</th>\n",
              "      <td>ham</td>\n",
              "      <td>industrial worksheets august 2000 activity att...</td>\n",
              "      <td>0</td>\n",
              "    </tr>\n",
              "    <tr>\n",
              "      <th>5170</th>\n",
              "      <td>spam</td>\n",
              "      <td>important online banking alert dear valued cit...</td>\n",
              "      <td>1</td>\n",
              "    </tr>\n",
              "  </tbody>\n",
              "</table>\n",
              "<p>4993 rows × 3 columns</p>\n",
              "</div>"
            ],
            "text/plain": [
              "     label                                               text  label_num\n",
              "0      ham  enron methanol meter 988291 follow note gave m...          0\n",
              "1      ham  hpl nom january 9 2001 see attached file hplno...          0\n",
              "2      ham  neon retreat ho ho ho around wonderful time ye...          0\n",
              "3     spam  photoshop windows office cheap main trending a...          1\n",
              "4      ham  indian springs deal book teco pvr revenue unde...          0\n",
              "...    ...                                                ...        ...\n",
              "5165   ham  fw crosstex energy driscoll ranch 1 3 meter no...          0\n",
              "5166   ham  put 10 ft transport volumes decreased 25000 10...          0\n",
              "5167   ham  3 4 2000 following noms hpl take extra 15 mmcf...          0\n",
              "5169   ham  industrial worksheets august 2000 activity att...          0\n",
              "5170  spam  important online banking alert dear valued cit...          1\n",
              "\n",
              "[4993 rows x 3 columns]"
            ]
          },
          "metadata": {
            "tags": []
          },
          "execution_count": 37
        }
      ]
    },
    {
      "cell_type": "code",
      "metadata": {
        "id": "PzRHn6Uhc3xe"
      },
      "source": [
        "from sklearn.feature_extraction.text import CountVectorizer\n",
        "\n",
        "#Assign a CountVectorizer object to vec\n",
        "vec = CountVectorizer()\n",
        "\n",
        "#Transform the training and test data using vec object\n",
        "X = vec.fit_transform(df['text'])\n",
        "\n",
        "from sklearn.model_selection import train_test_split\n",
        "# Split the training and test set test size=0.20,default is 0.25 and random state = 0 , so that everytime we run the code it results in similar output\n",
        "X_train, X_test, y_train, y_test = train_test_split(X, df['label_num'], random_state=0, test_size=0.2)\n"
      ],
      "execution_count": null,
      "outputs": []
    },
    {
      "cell_type": "code",
      "metadata": {
        "id": "U9_zICwYWG3m",
        "outputId": "ca5b5ba6-0e78-49c8-ec74-fc64236171fa",
        "colab": {
          "base_uri": "https://localhost:8080/",
          "height": 239
        }
      },
      "source": [
        "from sklearn.model_selection import GridSearchCV\n",
        "# Set candidates for best parameter\n",
        "parameters_candidate = {'C':[0.001,0.1,1,10]}\n",
        "\n",
        "#The classifier algorithm we are using is Logistic Regression based on linear model\n",
        "from sklearn.linear_model import LogisticRegression\n",
        "clf = LogisticRegression()\n",
        "\n",
        "#Use GridSearchCV to find the best candidate for parameter\n",
        "#Default Stratified kfold validation which ensures that splitting is done by maintaing the proportion of each class in y\n",
        "grid = GridSearchCV(estimator=clf, param_grid=parameters_candidate)\n",
        "\n",
        "#fit the grid on training set\n",
        "grid.fit(X_train, y_train)"
      ],
      "execution_count": null,
      "outputs": [
        {
          "output_type": "execute_result",
          "data": {
            "text/plain": [
              "GridSearchCV(cv=None, error_score=nan,\n",
              "             estimator=LogisticRegression(C=1.0, class_weight=None, dual=False,\n",
              "                                          fit_intercept=True,\n",
              "                                          intercept_scaling=1, l1_ratio=None,\n",
              "                                          max_iter=100, multi_class='auto',\n",
              "                                          n_jobs=None, penalty='l2',\n",
              "                                          random_state=None, solver='lbfgs',\n",
              "                                          tol=0.0001, verbose=0,\n",
              "                                          warm_start=False),\n",
              "             iid='deprecated', n_jobs=None,\n",
              "             param_grid={'C': [0.001, 0.1, 1, 10]}, pre_dispatch='2*n_jobs',\n",
              "             refit=True, return_train_score=False, scoring=None, verbose=0)"
            ]
          },
          "metadata": {
            "tags": []
          },
          "execution_count": 39
        }
      ]
    },
    {
      "cell_type": "code",
      "metadata": {
        "id": "0NS46Cnwt46c",
        "outputId": "d4dce035-68b3-42f7-d19b-47ef84864e32",
        "colab": {
          "base_uri": "https://localhost:8080/",
          "height": 91
        }
      },
      "source": [
        "#Now we are ready to test our model\n",
        "predictions = grid.predict(X_test)\n",
        "print(grid.best_params_)\n",
        "print(grid.score(X_test,y_test))\n",
        "\n",
        "#Lets print Confusion matrix for test set\n",
        "from sklearn.metrics import confusion_matrix\n",
        "confusion_matrix(y_test,predictions)"
      ],
      "execution_count": null,
      "outputs": [
        {
          "output_type": "stream",
          "text": [
            "{'C': 1}\n",
            "0.9819819819819819\n"
          ],
          "name": "stdout"
        },
        {
          "output_type": "execute_result",
          "data": {
            "text/plain": [
              "array([[708,  14],\n",
              "       [  4, 273]])"
            ]
          },
          "metadata": {
            "tags": []
          },
          "execution_count": 40
        }
      ]
    },
    {
      "cell_type": "code",
      "metadata": {
        "id": "tztvacLbzIgu"
      },
      "source": [
        "#Here we can see that for MultinomailNB we get best parameter tuning for alpha=1.0\n",
        "#The accuracy we got is nearly 98%"
      ],
      "execution_count": null,
      "outputs": []
    },
    {
      "cell_type": "code",
      "metadata": {
        "id": "tIYETZDqzyms",
        "outputId": "84383b9a-07f0-41db-e9cd-f721ece485c4",
        "colab": {
          "base_uri": "https://localhost:8080/",
          "height": 35
        }
      },
      "source": [
        "# Lets test our model with cross validator\n",
        "from sklearn.model_selection import cross_val_score\n",
        "#List of accuracy for every split inside cross validator\n",
        "accuracy_list =  cross_val_score(estimator = clf, X = X_train, y = y_train, cv = 5)\n",
        "\n",
        "#Mean accuracy for our model\n",
        "mean_accuracy = accuracy_list.mean()\n",
        "print(mean_accuracy)"
      ],
      "execution_count": null,
      "outputs": [
        {
          "output_type": "stream",
          "text": [
            "0.9767149412956672\n"
          ],
          "name": "stdout"
        }
      ]
    },
    {
      "cell_type": "code",
      "metadata": {
        "id": "UlXVbPOz1BDB"
      },
      "source": [
        "#Here we can see that the mean accuracy score with 10 splits in cross_validation is nearly 97.6% which is quite good !"
      ],
      "execution_count": null,
      "outputs": []
    }
  ]
}